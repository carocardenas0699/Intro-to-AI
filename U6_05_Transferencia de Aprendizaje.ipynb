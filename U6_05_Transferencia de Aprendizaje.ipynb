{
  "nbformat": 4,
  "nbformat_minor": 0,
  "metadata": {
    "colab": {
      "provenance": [],
      "gpuType": "T4"
    },
    "kernelspec": {
      "name": "python3",
      "display_name": "Python 3"
    },
    "language_info": {
      "name": "python"
    },
    "accelerator": "GPU",
    "gpuClass": "standard"
  },
  "cells": [
    {
      "cell_type": "code",
      "execution_count": null,
      "metadata": {
        "id": "vRRMJAaSYqXI"
      },
      "outputs": [],
      "source": [
        "#Transferencia de Aprendizaje / Transfer Learning"
      ]
    },
    {
      "cell_type": "code",
      "source": [
        "#Crear nuestro propio conjunto de datos"
      ],
      "metadata": {
        "id": "ud7YFyd4ZI8B"
      },
      "execution_count": null,
      "outputs": []
    },
    {
      "cell_type": "code",
      "source": [
        "!unzip babuino/babuino.zip -d babuino"
      ],
      "metadata": {
        "id": "Kf8NJIqzcIYI"
      },
      "execution_count": null,
      "outputs": []
    },
    {
      "cell_type": "code",
      "source": [
        "!unzip jirafa/jirafa.zip -d jirafa"
      ],
      "metadata": {
        "id": "7otXkJP7cRNa"
      },
      "execution_count": null,
      "outputs": []
    },
    {
      "cell_type": "code",
      "source": [
        "!rm -rf babuino/babuino.zip\n",
        "!rm -rf jirafa/jirafa.zip"
      ],
      "metadata": {
        "id": "IrUXULyMcTsm"
      },
      "execution_count": null,
      "outputs": []
    },
    {
      "cell_type": "code",
      "source": [
        "#Crear un set de datos (ya no en memoria)\n",
        "\n",
        "!mkdir dataset\n",
        "!cp -r babuino dataset/babuino\n",
        "!cp -r jirafa dataset/jirafa"
      ],
      "metadata": {
        "id": "5Fty_-FIccEj"
      },
      "execution_count": null,
      "outputs": []
    },
    {
      "cell_type": "code",
      "source": [
        "#Aumento de datos\n",
        "from tensorflow.keras.preprocessing.image import ImageDataGenerator\n",
        "import numpy as np\n",
        "\n",
        "#Crear el dataset generador\n",
        "datagen = ImageDataGenerator(\n",
        "    rescale=1. / 255,\n",
        "    rotation_range = 10,\n",
        "    width_shift_range=0.15,\n",
        "    height_shift_range = 0.15,\n",
        "    shear_range = 5,\n",
        "    zoom_range = [0.7, 1.3],\n",
        "    validation_split = 0.2\n",
        ")\n",
        "\n",
        "data_gen_entrenamiento = datagen.flow_from_directory(\"/content/dataset\",\n",
        "                                                     target_size=(224,224),\n",
        "                                                     batch_size=32, shuffle=True,\n",
        "                                                     subset=\"training\")\n",
        "\n",
        "data_gen_pruebas = datagen.flow_from_directory(\"/content/dataset\",\n",
        "                                                     target_size=(224,224),\n",
        "                                                     batch_size=32, shuffle=True,\n",
        "                                                     subset=\"validation\")"
      ],
      "metadata": {
        "id": "SQl5pmmCcrOw"
      },
      "execution_count": null,
      "outputs": []
    },
    {
      "cell_type": "code",
      "source": [
        "import matplotlib.pyplot as plt\n",
        "\n",
        "for imagenes, etiquetas in data_gen_entrenamiento:\n",
        "  for i in range(10):\n",
        "    plt.subplot(2, 5, i+1)\n",
        "    plt.imshow(imagenes[i])\n",
        "\n",
        "  break\n",
        "plt.show()"
      ],
      "metadata": {
        "id": "6S3S4cZ1doS2"
      },
      "execution_count": null,
      "outputs": []
    },
    {
      "cell_type": "code",
      "source": [
        "import tensorflow as tf\n",
        "import tensorflow_hub as hub\n",
        "\n",
        "url =\"https://tfhub.dev/google/tf2-preview/mobilenet_v2/feature_vector/4\"\n",
        "mobilenetv2 = hub.KerasLayer(url, input_shape=(224, 224, 3))"
      ],
      "metadata": {
        "id": "LgYMc76ReLIY"
      },
      "execution_count": null,
      "outputs": []
    },
    {
      "cell_type": "code",
      "source": [
        "#Importante\n",
        "#Congelar las capas\n",
        "mobilenetv2.trainable = False"
      ],
      "metadata": {
        "id": "1UEGVF52fS_Q"
      },
      "execution_count": null,
      "outputs": []
    },
    {
      "cell_type": "code",
      "source": [
        "modelo = tf.keras.Sequential([\n",
        "    mobilenetv2,\n",
        "    tf.keras.layers.Dense(2, activation=\"softmax\")\n",
        "])"
      ],
      "metadata": {
        "id": "KL3ecQYGfiet"
      },
      "execution_count": null,
      "outputs": []
    },
    {
      "cell_type": "code",
      "source": [
        "modelo.compile(\n",
        "    optimizer=\"adam\",\n",
        "    loss=\"categorical_crossentropy\",\n",
        "    metrics=[\"accuracy\"]\n",
        ")"
      ],
      "metadata": {
        "id": "G3sRdQaOfuwk"
      },
      "execution_count": null,
      "outputs": []
    },
    {
      "cell_type": "code",
      "source": [
        "EPOCAS = 20\n",
        "entrenamiento = modelo.fit(\n",
        "    data_gen_entrenamiento, epochs=EPOCAS, batch_size=32,\n",
        "    validation_data=data_gen_pruebas\n",
        ")"
      ],
      "metadata": {
        "id": "d5JuXMaxf0Y4"
      },
      "execution_count": null,
      "outputs": []
    },
    {
      "cell_type": "code",
      "source": [
        "from PIL import Image\n",
        "import cv2\n",
        "\n",
        "def categorizar(ruta):\n",
        "  img = Image.open(ruta)\n",
        "  img = img.convert(\"RGB\")\n",
        "  img = np.array(img).astype(float)/255\n",
        "\n",
        "  img = cv2.resize(img, (224, 224))\n",
        "  prediccion = modelo.predict(img.reshape(-1, 224, 224, 3))\n",
        "  return np.argmax(prediccion[0], axis=-1)"
      ],
      "metadata": {
        "id": "dhWcPFvZhZHK"
      },
      "execution_count": null,
      "outputs": []
    },
    {
      "cell_type": "code",
      "source": [
        "ruta = \"jirafa.jpeg\"\n",
        "prediccion = categorizar(ruta)\n",
        "print(prediccion)"
      ],
      "metadata": {
        "id": "Ndt3VgwTjVTB"
      },
      "execution_count": null,
      "outputs": []
    },
    {
      "cell_type": "code",
      "source": [
        "ruta = \"babuino.jpeg\"\n",
        "prediccion = categorizar(ruta)\n",
        "print(prediccion)"
      ],
      "metadata": {
        "id": "zuGs-kHJjc-s"
      },
      "execution_count": null,
      "outputs": []
    }
  ]
}